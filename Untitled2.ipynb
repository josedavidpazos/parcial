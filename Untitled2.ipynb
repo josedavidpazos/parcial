{
  "nbformat": 4,
  "nbformat_minor": 0,
  "metadata": {
    "colab": {
      "provenance": [],
      "authorship_tag": "ABX9TyOW5/s74Ny1yovSBBg1DHrU",
      "include_colab_link": true
    },
    "kernelspec": {
      "name": "python3",
      "display_name": "Python 3"
    },
    "language_info": {
      "name": "python"
    }
  },
  "cells": [
    {
      "cell_type": "markdown",
      "metadata": {
        "id": "view-in-github",
        "colab_type": "text"
      },
      "source": [
        "<a href=\"https://colab.research.google.com/github/josedavidpazos/parcial/blob/main/Untitled2.ipynb\" target=\"_parent\"><img src=\"https://colab.research.google.com/assets/colab-badge.svg\" alt=\"Open In Colab\"/></a>"
      ]
    },
    {
      "cell_type": "code",
      "execution_count": null,
      "metadata": {
        "id": "4K7BlfqJ3sGC"
      },
      "outputs": [],
      "source": [
        "#función cero y pendiente\n",
        "def my_ceropend(x,xhmax=10,xhmin=0):\n",
        "  #cálculo de pendiente y cero\n",
        "  m = (xhmax-xhmin)/(x.max()-x.min())\n",
        "  b = xhmin - m*x.min()\n",
        "  xh = m*x+b\n",
        "  return xh"
      ]
    },
    {
      "cell_type": "code",
      "source": [
        "import numpy as np\n",
        "import matplotlib.pyplot as plt\n",
        "from scipy.spatial.distance import cdist\n",
        "\n",
        "T1 = 1/2*np.pi #perido señal 1\n",
        "T2 = 2/5*np.pi #perido señal 2\n",
        "T3 = 1/5*np.pi\n",
        "F1 = 1/T1\n",
        "F2 = 1/T2\n",
        "F3 = 1/T3\n",
        "T = 24*np.pi #perido cuasiperiódica\n",
        "Fs = 10*max(F1,F2) #frecuencia muestreo\n",
        "t = np.arange(0,3*T,1/Fs) #vector de tiempo, se muestran 3 periodos\n",
        "x = (7*np.sin(4*t)- 2*np.cos(5*t) + 2*cos(10*t))\n",
        "xhmax = 5\n",
        "xhmin = -5\n",
        "xh = my_ceropend(x,xhmax, xhmin).reshape(-1,1)#aplicar cero y pendiente de 0 a 10\n",
        "#asegurar vector columna\n",
        "\n",
        "#cuantizar\n",
        "nbits = 3 #número bits\n",
        "Ne = 2**nbits #cantidad de estados\n",
        "res = (xhmax-xhmin)/Ne #resolución cuantización\n",
        "ve = np.arange(xhmin,xhmax,res).reshape(-1,1)#vector de estados\n",
        "#asegurar vector columna\n",
        "\n",
        "xq = np.zeros(len(xh)) #señal cuantizada\n",
        "for i in range(len(xh)): #recorrer señal cero y pendiente\n",
        "    xq[i] = ve[np.argmin(cdist(xh[i].reshape(-1,1),ve))] #se cálcula la distancia desde cada punto al vector de estados\n",
        "\n",
        "#gráficas de señales\n",
        "plt.plot(t,x,'r',label='x(t)')\n",
        "plt.xlabel('t [s]')\n",
        "plt.ylabel('Amplitud')\n",
        "plt.show()\n",
        "plt.plot(t,xh,'b',label='x(t)')\n",
        "plt.stem(t,xq,'y',label='xq[n]')\n",
        "plt.xlabel('n [muestra]')\n",
        "plt.ylabel('Amplitud')\n",
        "plt.legend()\n",
        "plt.show()"
      ],
      "metadata": {
        "colab": {
          "base_uri": "https://localhost:8080/",
          "height": 245
        },
        "id": "p9V3izQH3tTx",
        "outputId": "fb407558-7e74-4373-cc22-8011f12880e5"
      },
      "execution_count": 2,
      "outputs": [
        {
          "output_type": "error",
          "ename": "NameError",
          "evalue": "ignored",
          "traceback": [
            "\u001b[0;31m---------------------------------------------------------------------------\u001b[0m",
            "\u001b[0;31mNameError\u001b[0m                                 Traceback (most recent call last)",
            "\u001b[0;32m<ipython-input-2-bb5b5b8865e7>\u001b[0m in \u001b[0;36m<cell line: 14>\u001b[0;34m()\u001b[0m\n\u001b[1;32m     12\u001b[0m \u001b[0mFs\u001b[0m \u001b[0;34m=\u001b[0m \u001b[0;36m10\u001b[0m\u001b[0;34m*\u001b[0m\u001b[0mmax\u001b[0m\u001b[0;34m(\u001b[0m\u001b[0mF1\u001b[0m\u001b[0;34m,\u001b[0m\u001b[0mF2\u001b[0m\u001b[0;34m)\u001b[0m \u001b[0;31m#frecuencia muestreo\u001b[0m\u001b[0;34m\u001b[0m\u001b[0;34m\u001b[0m\u001b[0m\n\u001b[1;32m     13\u001b[0m \u001b[0mt\u001b[0m \u001b[0;34m=\u001b[0m \u001b[0mnp\u001b[0m\u001b[0;34m.\u001b[0m\u001b[0marange\u001b[0m\u001b[0;34m(\u001b[0m\u001b[0;36m0\u001b[0m\u001b[0;34m,\u001b[0m\u001b[0;36m3\u001b[0m\u001b[0;34m*\u001b[0m\u001b[0mT\u001b[0m\u001b[0;34m,\u001b[0m\u001b[0;36m1\u001b[0m\u001b[0;34m/\u001b[0m\u001b[0mFs\u001b[0m\u001b[0;34m)\u001b[0m \u001b[0;31m#vector de tiempo, se muestran 3 periodos\u001b[0m\u001b[0;34m\u001b[0m\u001b[0;34m\u001b[0m\u001b[0m\n\u001b[0;32m---> 14\u001b[0;31m \u001b[0mx\u001b[0m \u001b[0;34m=\u001b[0m \u001b[0;34m(\u001b[0m\u001b[0;36m7\u001b[0m\u001b[0;34m*\u001b[0m\u001b[0mnp\u001b[0m\u001b[0;34m.\u001b[0m\u001b[0msin\u001b[0m\u001b[0;34m(\u001b[0m\u001b[0;36m4\u001b[0m\u001b[0;34m*\u001b[0m\u001b[0mt\u001b[0m\u001b[0;34m)\u001b[0m\u001b[0;34m-\u001b[0m \u001b[0;36m2\u001b[0m\u001b[0;34m*\u001b[0m\u001b[0mnp\u001b[0m\u001b[0;34m.\u001b[0m\u001b[0mcos\u001b[0m\u001b[0;34m(\u001b[0m\u001b[0;36m5\u001b[0m\u001b[0;34m*\u001b[0m\u001b[0mt\u001b[0m\u001b[0;34m)\u001b[0m \u001b[0;34m+\u001b[0m \u001b[0;36m2\u001b[0m\u001b[0;34m*\u001b[0m\u001b[0mcos\u001b[0m\u001b[0;34m(\u001b[0m\u001b[0;36m10\u001b[0m\u001b[0;34m*\u001b[0m\u001b[0mt\u001b[0m\u001b[0;34m)\u001b[0m\u001b[0;34m)\u001b[0m\u001b[0;34m\u001b[0m\u001b[0;34m\u001b[0m\u001b[0m\n\u001b[0m\u001b[1;32m     15\u001b[0m \u001b[0mxhmax\u001b[0m \u001b[0;34m=\u001b[0m \u001b[0;36m5\u001b[0m\u001b[0;34m\u001b[0m\u001b[0;34m\u001b[0m\u001b[0m\n\u001b[1;32m     16\u001b[0m \u001b[0mxhmin\u001b[0m \u001b[0;34m=\u001b[0m \u001b[0;34m-\u001b[0m\u001b[0;36m5\u001b[0m\u001b[0;34m\u001b[0m\u001b[0;34m\u001b[0m\u001b[0m\n",
            "\u001b[0;31mNameError\u001b[0m: name 'cos' is not defined"
          ]
        }
      ]
    }
  ]
}